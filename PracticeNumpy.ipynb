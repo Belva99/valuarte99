{
  "nbformat": 4,
  "nbformat_minor": 0,
  "metadata": {
    "colab": {
      "provenance": [],
      "authorship_tag": "ABX9TyPb9bgQ8Boh4SLldDUVZihd",
      "include_colab_link": true
    },
    "kernelspec": {
      "name": "python3",
      "display_name": "Python 3"
    },
    "language_info": {
      "name": "python"
    }
  },
  "cells": [
    {
      "cell_type": "markdown",
      "metadata": {
        "id": "view-in-github",
        "colab_type": "text"
      },
      "source": [
        "<a href=\"https://colab.research.google.com/github/Belva99/valuarte99/blob/main/PracticeNumpy.ipynb\" target=\"_parent\"><img src=\"https://colab.research.google.com/assets/colab-badge.svg\" alt=\"Open In Colab\"/></a>"
      ]
    },
    {
      "cell_type": "code",
      "execution_count": 1,
      "metadata": {
        "colab": {
          "base_uri": "https://localhost:8080/"
        },
        "id": "ZbNFsOD22J65",
        "outputId": "1a770101-3499-4732-9f3a-3d805b166738"
      },
      "outputs": [
        {
          "output_type": "stream",
          "name": "stdout",
          "text": [
            "[[ 1  2 10  5]\n",
            " [ 9  3  2  3]\n",
            " [ 6  3 10  6]]\n",
            "[[10  7  4  2]\n",
            " [ 2  8  4  3]\n",
            " [ 3  6  5  1]]\n",
            "(3, 4)\n",
            "(3, 4)\n",
            "adding numbers\n",
            "[[11  9 14  7]\n",
            " [11 11  6  6]\n",
            " [ 9  9 15  7]]\n",
            "substracting numbers\n",
            "[[-9 -5  6  3]\n",
            " [ 7 -5 -2  0]\n",
            " [ 3 -3  5  5]]\n",
            "multiply numbers\n",
            "[[10 14 40 10]\n",
            " [18 24  8  9]\n",
            " [18 18 50  6]]\n",
            "[[11  9 14  7]\n",
            " [11 11  6  6]\n",
            " [ 9  9 15  7]]\n",
            "[[10 14 40 10]\n",
            " [18 24  8  9]\n",
            " [18 18 50  6]]\n",
            "[[0.1        0.28571429 2.5        2.5       ]\n",
            " [4.5        0.375      0.5        1.        ]\n",
            " [2.         0.5        2.         6.        ]]\n"
          ]
        }
      ],
      "source": [
        "import numpy as np\n",
        "a=np.random.randint(1,11,size=(3,4))\n",
        "b=np.random.randint(1,11,size=(3,4))\n",
        "print(a)\n",
        "print(b)\n",
        "print(a.shape)\n",
        "print(b.shape)\n",
        "print('adding numbers')\n",
        "print(a+b)\n",
        "print('substracting numbers')\n",
        "print(a-b)\n",
        "print('multiply numbers')\n",
        "print(a*b)\n",
        "\n",
        "print(np.add(a,b))\n",
        "print(np.multiply(a,b))\n",
        "print(np.divide(a,b))"
      ]
    },
    {
      "cell_type": "code",
      "source": [
        "a=np.random.randint(1,11,size=(2,3))\n",
        "b=np.random.randint(1,11,size=(3,4))\n",
        "print(a)\n",
        "print(b)\n",
        "print(np.dot(a,b))\n",
        "print(a.dot(b))"
      ],
      "metadata": {
        "colab": {
          "base_uri": "https://localhost:8080/"
        },
        "id": "-Ej4Sz259g-O",
        "outputId": "af60aa5c-e3ff-4432-fd15-6adcde14c2a3"
      },
      "execution_count": 2,
      "outputs": [
        {
          "output_type": "stream",
          "name": "stdout",
          "text": [
            "[[2 7 4]\n",
            " [5 6 8]]\n",
            "[[ 6  5  4  1]\n",
            " [ 1 10  6 10]\n",
            " [ 4  2  3  5]]\n",
            "[[ 35  88  62  92]\n",
            " [ 68 101  80 105]]\n",
            "[[ 35  88  62  92]\n",
            " [ 68 101  80 105]]\n"
          ]
        }
      ]
    },
    {
      "cell_type": "code",
      "source": [
        "a=np.random.randint(1,11,size=(2,2))\n",
        "print(a.shape)\n",
        "print(type(a))\n",
        "print(a)\n",
        "print(a.T)"
      ],
      "metadata": {
        "colab": {
          "base_uri": "https://localhost:8080/"
        },
        "id": "VJVfihSH_FJF",
        "outputId": "0abbe9d6-78cb-4a9b-e553-820492d8a650"
      },
      "execution_count": 3,
      "outputs": [
        {
          "output_type": "stream",
          "name": "stdout",
          "text": [
            "(2, 2)\n",
            "<class 'numpy.ndarray'>\n",
            "[[9 6]\n",
            " [4 9]]\n",
            "[[9 4]\n",
            " [6 9]]\n"
          ]
        }
      ]
    },
    {
      "cell_type": "code",
      "source": [
        "a=np.random.randint(1,11,size=(4,3))\n",
        "b=np.array([1,0,2])\n",
        "print(a.shape)\n",
        "print(b.shape)\n",
        "\n",
        "c=np.empty_like(a)\n",
        "print(a)\n",
        "print(b)\n",
        "print(c.shape)\n",
        "print('------------------')\n",
        "print(c)\n",
        "\n"
      ],
      "metadata": {
        "colab": {
          "base_uri": "https://localhost:8080/"
        },
        "id": "Cc82XcP2_-eG",
        "outputId": "a8320d1e-d81b-4178-ac29-d722ca3980cd"
      },
      "execution_count": 4,
      "outputs": [
        {
          "output_type": "stream",
          "name": "stdout",
          "text": [
            "(4, 3)\n",
            "(3,)\n",
            "[[10  7  7]\n",
            " [ 4  4  5]\n",
            " [ 7  6  8]\n",
            " [ 6  2  4]]\n",
            "[1 0 2]\n",
            "(4, 3)\n",
            "------------------\n",
            "[[ 1  2 10]\n",
            " [ 5  9  3]\n",
            " [ 2  3  6]\n",
            " [ 3 10  6]]\n"
          ]
        }
      ]
    },
    {
      "cell_type": "code",
      "source": [
        "for i in range(4):\n",
        "  c[i,:]=a[i,:]+b\n",
        "\n",
        "print(a)\n",
        "print(b)\n",
        "print(c)\n",
        "print('------------------')\n",
        "c=a+b\n",
        "print(c)"
      ],
      "metadata": {
        "colab": {
          "base_uri": "https://localhost:8080/"
        },
        "id": "8jFpOVOpA_dW",
        "outputId": "7893cbeb-ca1b-4a32-da14-7b515ce9ac2b"
      },
      "execution_count": 5,
      "outputs": [
        {
          "output_type": "stream",
          "name": "stdout",
          "text": [
            "[[10  7  7]\n",
            " [ 4  4  5]\n",
            " [ 7  6  8]\n",
            " [ 6  2  4]]\n",
            "[1 0 2]\n",
            "[[11  7  9]\n",
            " [ 5  4  7]\n",
            " [ 8  6 10]\n",
            " [ 7  2  6]]\n",
            "------------------\n",
            "[[11  7  9]\n",
            " [ 5  4  7]\n",
            " [ 8  6 10]\n",
            " [ 7  2  6]]\n"
          ]
        }
      ]
    },
    {
      "cell_type": "code",
      "source": [
        "a=np.array([1,2,3])\n",
        "\n",
        "\n",
        "#print(a)\n",
        "\n",
        "\n",
        "tmp=np.tile(a,(6,1))\n",
        "print(tmp)"
      ],
      "metadata": {
        "colab": {
          "base_uri": "https://localhost:8080/"
        },
        "id": "afpE_UBWDMnl",
        "outputId": "59d9ecad-ff7a-4425-b11c-99c1d5b2f472"
      },
      "execution_count": 6,
      "outputs": [
        {
          "output_type": "stream",
          "name": "stdout",
          "text": [
            "[[1 2 3]\n",
            " [1 2 3]\n",
            " [1 2 3]\n",
            " [1 2 3]\n",
            " [1 2 3]\n",
            " [1 2 3]]\n"
          ]
        }
      ]
    },
    {
      "cell_type": "code",
      "source": [
        "matriz = np.random.randint(0, 10, size=(6, 6))\n",
        "print(matriz)\n",
        "\n",
        "aux=np.mean(matriz)\n",
        "print(aux)\n",
        "print('------------------')\n",
        "matriz = np.random.randint(0, 10, size=(6, 6))\n",
        "print(matriz)\n",
        "print('------------------')\n",
        "promedio_por_filas = np.mean(matriz, axis=1)\n",
        "print(\"\\nEl promedio por filas de la matriz es:\")\n",
        "print(promedio_por_filas)"
      ],
      "metadata": {
        "colab": {
          "base_uri": "https://localhost:8080/"
        },
        "id": "16V5r7MTGU5t",
        "outputId": "33690b95-a242-4dc3-fbd4-6d2519b2a647"
      },
      "execution_count": 7,
      "outputs": [
        {
          "output_type": "stream",
          "name": "stdout",
          "text": [
            "[[2 8 8 5 1 3]\n",
            " [9 1 2 5 3 2]\n",
            " [7 5 0 8 6 7]\n",
            " [5 8 1 6 1 7]\n",
            " [3 9 4 3 9 6]\n",
            " [2 5 1 3 2 7]]\n",
            "4.555555555555555\n",
            "------------------\n",
            "[[8 1 4 8 2 8]\n",
            " [3 0 9 2 3 3]\n",
            " [2 9 5 7 6 5]\n",
            " [2 3 7 4 4 4]\n",
            " [6 5 2 4 7 9]\n",
            " [2 2 7 8 6 4]]\n",
            "------------------\n",
            "\n",
            "El promedio por filas de la matriz es:\n",
            "[5.16666667 3.33333333 5.66666667 4.         5.5        4.83333333]\n"
          ]
        }
      ]
    },
    {
      "cell_type": "code",
      "source": [
        "# Operaciones de arrays\n",
        "arr_a = np.array([2, 4, 6])\n",
        "arr_b = np.array([1, 2, 3])\n",
        "\n",
        "# Suma y resta de arrays\n",
        "sum_result = arr_a + arr_b\n",
        "difference_result = arr_a - arr_b\n",
        "\n",
        "print(\"Suma de arrays:\", sum_result)\n",
        "print(\"Resta de arrays:\", difference_result)\n",
        "\n",
        "# Multiplicación y división de arrays\n",
        "product_result = arr_a * arr_b\n",
        "division_result = arr_a / arr_b\n",
        "\n",
        "print(\"Multiplicación de arrays:\", product_result)\n",
        "print(\"División de arrays:\", division_result)"
      ],
      "metadata": {
        "colab": {
          "base_uri": "https://localhost:8080/"
        },
        "id": "vDzrGtp1rzU5",
        "outputId": "9bad86f5-a3f8-4fa7-fafb-a7b925f09446"
      },
      "execution_count": 13,
      "outputs": [
        {
          "output_type": "stream",
          "name": "stdout",
          "text": [
            "Suma de arrays: [3 6 9]\n",
            "Resta de arrays: [1 2 3]\n",
            "Multiplicación de arrays: [ 2  8 18]\n",
            "División de arrays: [2. 2. 2.]\n"
          ]
        }
      ]
    },
    {
      "cell_type": "code",
      "source": [
        "# Operaciones estadísticas básicas\n",
        "data = np.array([5, 8, 12, 15, 20])\n",
        "\n",
        "# Media y mediana\n",
        "mean_value = np.mean(data)\n",
        "median_value = np.median(data)\n",
        "\n",
        "print(\"Media:\", mean_value)\n",
        "print(\"Mediana:\", median_value)"
      ],
      "metadata": {
        "colab": {
          "base_uri": "https://localhost:8080/"
        },
        "id": "SfQjfJjjr71H",
        "outputId": "e8d8b30d-cebf-42b2-b5d8-ad753b733b83"
      },
      "execution_count": 14,
      "outputs": [
        {
          "output_type": "stream",
          "name": "stdout",
          "text": [
            "Media: 12.0\n",
            "Mediana: 12.0\n"
          ]
        }
      ]
    },
    {
      "cell_type": "code",
      "source": [
        "# Broadcasting con arrays de diferentes dimensiones\n",
        "arr_2d = np.array([[3, 4, 5], [6, 7, 8]])\n",
        "arr_1d = np.array([10, 20, 30])\n",
        "result_broadcasting = arr_2d + arr_1d\n",
        "\n",
        "print(\"Resultado del Broadcasting:\")\n",
        "print(result_broadcasting)\n",
        "\n",
        "# Reshape de arrays\n",
        "reshaped_arr = arr_1d.reshape((3, 1))\n",
        "\n",
        "print(\"\\nArray Reshape:\")\n",
        "print(reshaped_arr)\n",
        "\n",
        "# Concatenación de arrays a lo largo de diferentes ejes\n",
        "arr_a = np.array([[3, 4], [5, 6]])\n",
        "arr_b = np.array([[7, 8]])\n",
        "concatenated_arr = np.concatenate((arr_a, arr_b.T), axis=1)\n",
        "\n",
        "print(\"\\nResultado de la Concatenación:\")\n",
        "print(concatenated_arr)"
      ],
      "metadata": {
        "colab": {
          "base_uri": "https://localhost:8080/"
        },
        "id": "g4BmZJltr_BI",
        "outputId": "2ce200c4-dabe-4eb3-f5ac-5f397e761ac0"
      },
      "execution_count": 15,
      "outputs": [
        {
          "output_type": "stream",
          "name": "stdout",
          "text": [
            "Resultado del Broadcasting:\n",
            "[[13 24 35]\n",
            " [16 27 38]]\n",
            "\n",
            "Array Reshape:\n",
            "[[10]\n",
            " [20]\n",
            " [30]]\n",
            "\n",
            "Resultado de la Concatenación:\n",
            "[[3 4 7]\n",
            " [5 6 8]]\n"
          ]
        }
      ]
    }
  ]
}