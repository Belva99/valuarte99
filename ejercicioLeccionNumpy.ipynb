{
  "nbformat": 4,
  "nbformat_minor": 0,
  "metadata": {
    "colab": {
      "provenance": [],
      "include_colab_link": true
    },
    "kernelspec": {
      "name": "python3",
      "display_name": "Python 3"
    },
    "language_info": {
      "name": "python"
    }
  },
  "cells": [
    {
      "cell_type": "markdown",
      "metadata": {
        "id": "view-in-github",
        "colab_type": "text"
      },
      "source": [
        "<a href=\"https://colab.research.google.com/github/Belva99/valuarte99/blob/main/ejercicioLeccionNumpy.ipynb\" target=\"_parent\"><img src=\"https://colab.research.google.com/assets/colab-badge.svg\" alt=\"Open In Colab\"/></a>"
      ]
    },
    {
      "cell_type": "code",
      "execution_count": 1,
      "metadata": {
        "id": "r5TPo1O589Hy"
      },
      "outputs": [],
      "source": [
        "# Create a 1D array of numbers from 0 to 9\n",
        "# your code here\n",
        "import numpy as np\n",
        "\n",
        "pass"
      ]
    },
    {
      "cell_type": "code",
      "source": [
        "# Create random vector of size 10 and replace the maximum value by 0lista=list(range(9))\n",
        "# Create a random vector of size 10\n",
        "x = np.random.random(10)\n",
        "\n",
        "# Print the original vector\n",
        "print(\"Original vector:\")\n",
        "print(x)\n",
        "\n",
        "# Find the index of the maximum value\n",
        "max_index = x.argmax()\n",
        "\n",
        "# Replace the maximum value by 0\n",
        "x[max_index] = 0\n",
        "\n",
        "# Print the modified vector\n",
        "print(\"Modified vector:\")\n",
        "print(x)"
      ],
      "metadata": {
        "colab": {
          "base_uri": "https://localhost:8080/"
        },
        "id": "89CZ2hKl9FrK",
        "outputId": "311cdb78-e512-47e0-edf2-d4e37407e582"
      },
      "execution_count": 25,
      "outputs": [
        {
          "output_type": "stream",
          "name": "stdout",
          "text": [
            "Original vector:\n",
            "[0.06601481 0.82658316 0.58073187 0.11206337 0.8456325  0.59462112\n",
            " 0.67325349 0.0593629  0.03907248 0.11493683]\n",
            "Modified vector:\n",
            "[0.06601481 0.82658316 0.58073187 0.11206337 0.         0.59462112\n",
            " 0.67325349 0.0593629  0.03907248 0.11493683]\n"
          ]
        }
      ]
    },
    {
      "cell_type": "code",
      "source": [
        "vector = np.random.rand(10)\n",
        "vector[vector.argmax()] = 0\n",
        "print(vector)\n",
        "\n",
        "pass"
      ],
      "metadata": {
        "colab": {
          "base_uri": "https://localhost:8080/"
        },
        "id": "H_0UPaH99Nvl",
        "outputId": "59d0c0b3-5884-467d-9c06-b5597a57b7be"
      },
      "execution_count": 3,
      "outputs": [
        {
          "output_type": "stream",
          "name": "stdout",
          "text": [
            "[0.70894598 0.73572025 0.11005579 0.47968008 0.17827401 0.\n",
            " 0.18589075 0.3298024  0.70516689 0.05924888]\n"
          ]
        }
      ]
    },
    {
      "cell_type": "code",
      "source": [
        "# Print the number 8 from the array below:\n",
        "arr = np.array([[1,2,3,4,5], [6,7,8,9,10]])\n",
        "print(arr[1, 2])\n",
        "\n",
        "pass"
      ],
      "metadata": {
        "colab": {
          "base_uri": "https://localhost:8080/"
        },
        "id": "cXzBSkYf9WYh",
        "outputId": "6ffe2746-c302-40ff-88ad-cc3bfb2d358b"
      },
      "execution_count": 4,
      "outputs": [
        {
          "output_type": "stream",
          "name": "stdout",
          "text": [
            "8\n"
          ]
        }
      ]
    },
    {
      "cell_type": "code",
      "source": [
        "# Print the numbers [3, 4, 5] from the array below:\n",
        "arr = np.array([1,2,3,4,5,6,7])\n",
        "print(arr[2:5])\n",
        "pass"
      ],
      "metadata": {
        "colab": {
          "base_uri": "https://localhost:8080/"
        },
        "id": "KyPwyvXT9byH",
        "outputId": "b3ffd7b4-6d69-48f8-9352-68c95c08b4c6"
      },
      "execution_count": 5,
      "outputs": [
        {
          "output_type": "stream",
          "name": "stdout",
          "text": [
            "[3 4 5]\n"
          ]
        }
      ]
    },
    {
      "cell_type": "code",
      "source": [
        "# Print the last 4 numbers from the array below:\n",
        "arr = np.array([1,2,3,4,5,6,7])\n",
        "print(arr[3:])\n",
        "pass"
      ],
      "metadata": {
        "colab": {
          "base_uri": "https://localhost:8080/"
        },
        "id": "G7jec6hg998O",
        "outputId": "c10dca6e-6a4e-46f5-b963-f51248d4dc76"
      },
      "execution_count": 6,
      "outputs": [
        {
          "output_type": "stream",
          "name": "stdout",
          "text": [
            "[4 5 6 7]\n"
          ]
        }
      ]
    },
    {
      "cell_type": "code",
      "source": [
        "\n",
        "# Create a 3×3 numpy array of all True’s\n",
        "tmp=10*np.random.random((4,4))\n",
        "mascara=tmp>0\n",
        "print(tmp)\n",
        "print(\"-------------------\")\n",
        "print(mascara)\n",
        "pass"
      ],
      "metadata": {
        "colab": {
          "base_uri": "https://localhost:8080/"
        },
        "id": "ToQEV4aQ-B88",
        "outputId": "550d00ed-b913-453a-ffab-f9b5e64880bb"
      },
      "execution_count": 7,
      "outputs": [
        {
          "output_type": "stream",
          "name": "stdout",
          "text": [
            "[[3.48365086 4.56371292 5.37151721 8.27669312]\n",
            " [3.05352663 1.80247471 1.36604179 0.69516659]\n",
            " [8.53005947 4.28040799 7.32668176 2.38260894]\n",
            " [4.04620982 1.07561281 1.05807453 9.65368252]]\n",
            "-------------------\n",
            "[[ True  True  True  True]\n",
            " [ True  True  True  True]\n",
            " [ True  True  True  True]\n",
            " [ True  True  True  True]]\n"
          ]
        }
      ]
    },
    {
      "cell_type": "code",
      "source": [
        "# Extract all odd numbers from arr\n",
        "tmp = np.random.randint(1, 11, size=(4, 4))\n",
        "print(tmp)\n",
        "\n",
        "print('----------------------------------')\n",
        "\n",
        "mask = np.mod(tmp, 2) == 0\n",
        "print(tmp[mask])\n",
        "pass\n"
      ],
      "metadata": {
        "colab": {
          "base_uri": "https://localhost:8080/"
        },
        "id": "SggvHHB0-Gbo",
        "outputId": "497c1031-2175-4e2d-e451-4400b2018f52"
      },
      "execution_count": 8,
      "outputs": [
        {
          "output_type": "stream",
          "name": "stdout",
          "text": [
            "[[ 2  2  3  2]\n",
            " [ 7  9  9  9]\n",
            " [10  7  4  5]\n",
            " [ 9  3  8  8]]\n",
            "----------------------------------\n",
            "[ 2  2  2 10  4  8  8]\n"
          ]
        }
      ]
    },
    {
      "cell_type": "code",
      "source": [
        "# Create a vector with values ranging from 10 to 49 (★☆☆)\n",
        "tmp = np.arange(10,50)\n",
        "print(tmp)\n",
        "pass"
      ],
      "metadata": {
        "colab": {
          "base_uri": "https://localhost:8080/"
        },
        "id": "xn5DE2fy-SKx",
        "outputId": "efa1e66b-209c-4a3c-93e9-f9ec42ccfef5"
      },
      "execution_count": 9,
      "outputs": [
        {
          "output_type": "stream",
          "name": "stdout",
          "text": [
            "[10 11 12 13 14 15 16 17 18 19 20 21 22 23 24 25 26 27 28 29 30 31 32 33\n",
            " 34 35 36 37 38 39 40 41 42 43 44 45 46 47 48 49]\n"
          ]
        }
      ]
    },
    {
      "cell_type": "code",
      "source": [
        "# Reverse a vector (first element becomes last)\n",
        "vectorInvertido = tmp[::-1]\n",
        "print(vectorInvertido)\n",
        "pass"
      ],
      "metadata": {
        "colab": {
          "base_uri": "https://localhost:8080/"
        },
        "id": "pZ7EzAk--YRL",
        "outputId": "3618ce12-1090-4bf5-d299-be611330054a"
      },
      "execution_count": 10,
      "outputs": [
        {
          "output_type": "stream",
          "name": "stdout",
          "text": [
            "[49 48 47 46 45 44 43 42 41 40 39 38 37 36 35 34 33 32 31 30 29 28 27 26\n",
            " 25 24 23 22 21 20 19 18 17 16 15 14 13 12 11 10]\n"
          ]
        }
      ]
    },
    {
      "cell_type": "code",
      "source": [
        "#  Create a 10x10 array with random integer values and find the minimum and maximum values\n",
        "tmp = np.random.randint(1, 101, size=(10, 10))\n",
        "minimo = np.min(tmp)\n",
        "maximo = np.max(tmp)\n",
        "print(\"Matriz\")\n",
        "print(tmp)\n",
        "print(\"Minimo\")\n",
        "print(minimo)\n",
        "print(\"Maximo\")\n",
        "print(maximo)\n",
        "pass"
      ],
      "metadata": {
        "colab": {
          "base_uri": "https://localhost:8080/"
        },
        "id": "NDAZoKfB-a2f",
        "outputId": "cd01e358-4a3a-4aa6-d2a6-2797fab34343"
      },
      "execution_count": 11,
      "outputs": [
        {
          "output_type": "stream",
          "name": "stdout",
          "text": [
            "Matriz\n",
            "[[74 57 51 27 63 66 97 49  7 63]\n",
            " [17 45 85 51 85 91 59 29 19 71]\n",
            " [71 81 76 17 14 69 53 86 30 21]\n",
            " [30 26 92 42 66 18 51 94 37 67]\n",
            " [26 57 88 27 91 52 99 32 29 84]\n",
            " [83 76  3 93 77 88 29  2 44 61]\n",
            " [11 57  3 26 92 59 80  7 86  2]\n",
            " [20 29 81  2 34 69 23 19 92 41]\n",
            " [42 90 38 41 85 38 62 51 12  1]\n",
            " [10 43 30 27  8 60 45 63 58 48]]\n",
            "Minimo\n",
            "1\n",
            "Maximo\n",
            "99\n"
          ]
        }
      ]
    },
    {
      "cell_type": "code",
      "source": [
        "# Create a 3x3x3 array with random values\n",
        "tmp2 = np.random.random((3,3,3))\n",
        "print(tmp2)\n",
        "pass"
      ],
      "metadata": {
        "colab": {
          "base_uri": "https://localhost:8080/"
        },
        "id": "5EUPp6QQ-dPa",
        "outputId": "ac5b6236-6394-4763-9f8b-5b53614f8823"
      },
      "execution_count": 12,
      "outputs": [
        {
          "output_type": "stream",
          "name": "stdout",
          "text": [
            "[[[0.7955613  0.76308668 0.04574854]\n",
            "  [0.45864819 0.77888808 0.88046418]\n",
            "  [0.04616754 0.95435645 0.09680812]]\n",
            "\n",
            " [[0.87564521 0.87960478 0.47733531]\n",
            "  [0.2013573  0.29123922 0.30956874]\n",
            "  [0.36484368 0.61414305 0.71526659]]\n",
            "\n",
            " [[0.44099729 0.27163526 0.5303793 ]\n",
            "  [0.97198759 0.74995924 0.78538303]\n",
            "  [0.22008486 0.99817693 0.2479018 ]]]\n"
          ]
        }
      ]
    },
    {
      "cell_type": "code",
      "source": [
        "# Replace all odd numbers in arr with -1\n",
        "tmp = np.random.randint(1, 11, size=(3, 3, 3))\n",
        "print(tmp)\n",
        "print(\"-----------------\")\n",
        "tmp[tmp % 2 == 1] = -1\n",
        "print(tmp)\n",
        "pass"
      ],
      "metadata": {
        "colab": {
          "base_uri": "https://localhost:8080/"
        },
        "id": "eVcwozSI-jT6",
        "outputId": "3a900991-d0a1-49c3-d130-f5d3ece51020"
      },
      "execution_count": 13,
      "outputs": [
        {
          "output_type": "stream",
          "name": "stdout",
          "text": [
            "[[[ 9 10 10]\n",
            "  [10 10  8]\n",
            "  [ 7  5 10]]\n",
            "\n",
            " [[ 4  5 10]\n",
            "  [10  2  5]\n",
            "  [ 7  4  5]]\n",
            "\n",
            " [[ 4  7 10]\n",
            "  [ 7  7  3]\n",
            "  [ 7  2  7]]]\n",
            "-----------------\n",
            "[[[-1 10 10]\n",
            "  [10 10  8]\n",
            "  [-1 -1 10]]\n",
            "\n",
            " [[ 4 -1 10]\n",
            "  [10  2 -1]\n",
            "  [-1  4 -1]]\n",
            "\n",
            " [[ 4 -1 10]\n",
            "  [-1 -1 -1]\n",
            "  [-1  2 -1]]]\n"
          ]
        }
      ]
    },
    {
      "cell_type": "code",
      "source": [
        "# Create an array of type float\n",
        "tmpF = np.random.rand(5)\n",
        "print(tmpF)\n",
        "pass"
      ],
      "metadata": {
        "colab": {
          "base_uri": "https://localhost:8080/"
        },
        "id": "rqErmUHa-uIO",
        "outputId": "4bda79a5-ecc0-416e-c5c0-dee83cd4e559"
      },
      "execution_count": 14,
      "outputs": [
        {
          "output_type": "stream",
          "name": "stdout",
          "text": [
            "[0.38302531 0.92396871 0.49286667 0.12345946 0.43399813]\n"
          ]
        }
      ]
    },
    {
      "cell_type": "code",
      "source": [
        "# Convert a 1D array to a 2D array with 2 rows\n",
        "lista = list(range(12))\n",
        "lista = np.array(lista)\n",
        "two_d_array = lista.reshape(2, 6)\n",
        "print(two_d_array)\n",
        "\n",
        "pass\n"
      ],
      "metadata": {
        "colab": {
          "base_uri": "https://localhost:8080/"
        },
        "id": "NS4rE6Bl-wj8",
        "outputId": "a801a92d-f6e1-425e-de51-9c624b9c4a02"
      },
      "execution_count": 15,
      "outputs": [
        {
          "output_type": "stream",
          "name": "stdout",
          "text": [
            "[[ 0  1  2  3  4  5]\n",
            " [ 6  7  8  9 10 11]]\n"
          ]
        }
      ]
    },
    {
      "cell_type": "code",
      "source": [
        "# How to find common values between two arrays?\n",
        "\n",
        "Z1 = np.random.randint(0,10,10)\n",
        "Z2 = np.random.randint(0,10,10)\n",
        "valoresComunes = np.intersect1d(Z1, Z2)\n",
        "print(Z1)\n",
        "print(\"-------------\")\n",
        "print(Z2)\n",
        "print(\"-------------\")\n",
        "print(valoresComunes)\n",
        "pass\n"
      ],
      "metadata": {
        "colab": {
          "base_uri": "https://localhost:8080/"
        },
        "id": "4RjKUPNf-2NY",
        "outputId": "228277e8-fb7b-412a-9052-5b3862393b58"
      },
      "execution_count": 16,
      "outputs": [
        {
          "output_type": "stream",
          "name": "stdout",
          "text": [
            "[4 3 7 1 8 3 9 3 2 9]\n",
            "-------------\n",
            "[6 6 9 4 9 9 5 7 0 9]\n",
            "-------------\n",
            "[4 7 9]\n"
          ]
        }
      ]
    },
    {
      "cell_type": "code",
      "source": [
        "#  Consider two random array A and B, check if they are equal\n",
        "\n",
        "A = np.random.randint(0,2,5)\n",
        "B = np.random.randint(0,2,5)\n",
        "\n",
        "print('Array A')\n",
        "print(A)\n",
        "print('Array B')\n",
        "print(B)\n",
        "\n",
        "if np.array_equal(A,B):\n",
        "  print('Son iguales')\n",
        "else:\n",
        "  print('Son diferentes')\n",
        "\n",
        "pass"
      ],
      "metadata": {
        "colab": {
          "base_uri": "https://localhost:8080/"
        },
        "id": "AlN9zHvh-68T",
        "outputId": "f479b4c1-31cf-4b6c-83c7-94fde7ffc9e7"
      },
      "execution_count": 17,
      "outputs": [
        {
          "output_type": "stream",
          "name": "stdout",
          "text": [
            "Array A\n",
            "[1 1 1 0 0]\n",
            "Array B\n",
            "[0 0 0 0 0]\n",
            "Son diferentes\n"
          ]
        }
      ]
    },
    {
      "cell_type": "code",
      "source": [
        "# Stack arrays a and b vertically\n",
        "print('Array A')\n",
        "print(A)\n",
        "print('Array B')\n",
        "print(B)\n",
        "matrizApiladaVertical = np.vstack((A, B))\n",
        "print(\"Stacked Array:\")\n",
        "print(matrizApiladaVertical)\n",
        "pass"
      ],
      "metadata": {
        "colab": {
          "base_uri": "https://localhost:8080/"
        },
        "id": "cRgNBMbJ_AJ-",
        "outputId": "2f60ee94-832a-4fdc-aa27-ed9ac4b219b7"
      },
      "execution_count": 18,
      "outputs": [
        {
          "output_type": "stream",
          "name": "stdout",
          "text": [
            "Array A\n",
            "[1 1 1 0 0]\n",
            "Array B\n",
            "[0 0 0 0 0]\n",
            "Stacked Array:\n",
            "[[1 1 1 0 0]\n",
            " [0 0 0 0 0]]\n"
          ]
        }
      ]
    },
    {
      "cell_type": "code",
      "source": [
        "# Stack the arrays a and b horizontally.\n",
        "print('Array A')\n",
        "print(A)\n",
        "print('Array B')\n",
        "print(B)\n",
        "matrizApiladaHorizontal = np.hstack((A, B))\n",
        "print(\"Stacked Array:\")\n",
        "print(matrizApiladaHorizontal)\n",
        "pass"
      ],
      "metadata": {
        "colab": {
          "base_uri": "https://localhost:8080/"
        },
        "id": "kF9vGrJ4_CsX",
        "outputId": "9bb22909-c98b-415d-bb38-32361b12615d"
      },
      "execution_count": 19,
      "outputs": [
        {
          "output_type": "stream",
          "name": "stdout",
          "text": [
            "Array A\n",
            "[1 1 1 0 0]\n",
            "Array B\n",
            "[0 0 0 0 0]\n",
            "Stacked Array:\n",
            "[1 1 1 0 0 0 0 0 0 0]\n"
          ]
        }
      ]
    },
    {
      "cell_type": "code",
      "source": [
        "# Get all items between 5 and 10 from array tmp.\n",
        "# your code here\n",
        "import numpy as np\n",
        "tmp = np.arange(15)\n",
        "print(tmp)\n",
        "print('-------------')\n",
        "valores = tmp[(tmp>=5)&(tmp<=10)]\n",
        "print(valores)\n",
        "# pass"
      ],
      "metadata": {
        "colab": {
          "base_uri": "https://localhost:8080/"
        },
        "id": "q2D1JR7V_HL9",
        "outputId": "3e8b3d35-3b4f-4800-90e1-cf1d7fdc64c0"
      },
      "execution_count": 20,
      "outputs": [
        {
          "output_type": "stream",
          "name": "stdout",
          "text": [
            "[ 0  1  2  3  4  5  6  7  8  9 10 11 12 13 14]\n",
            "-------------\n",
            "[ 5  6  7  8  9 10]\n"
          ]
        }
      ]
    },
    {
      "cell_type": "code",
      "source": [
        "# How to make a python function that handles scalars to work on numpy arrays?\n",
        "# Hint\n",
        "# Desired Output:\n",
        "# a = np.array([5, 7, 9, 8, 6, 4, 5])\n",
        "# b = np.array([6, 3, 4, 8, 9, 7, 1])\n",
        "# pair_max(a, b)\n",
        "# #> array([ 6.,  7.,  9.,  8.,  9.,  7.,  5.])\n",
        "\n",
        "\n",
        "\"\"\"Arrays\"\"\"\n",
        "# a = np.array([5, 7, 9, 8, 6, 4, 5])\n",
        "a = np.random.randint(1,10,7)\n",
        "print(\"Array A\")\n",
        "print(a)\n",
        "# b = np.array([6, 3, 4, 8, 9, 7, 1])\n",
        "b = np.random.randint(1,10,7)\n",
        "print(\"Array B\")\n",
        "print(b)\n",
        "\n",
        "print(\"----------------------------\")\n",
        "\n",
        "\"\"\"Method 1\"\"\"\n",
        "print(\"Method 1\")\n",
        "def parMax(a, b):\n",
        "    \"\"\"Get the element-wise maximum of two arrays\"\"\"\n",
        "    return np.maximum(a, b)\n",
        "\n",
        "c = parMax(a, b)\n",
        "print(c)\n",
        "\n",
        "print(\"----------------------------\")\n",
        "\n",
        "print(\"Method 2\")\n",
        "\"\"\"Method 2\"\"\"\n",
        "def maxx(x, y):\n",
        "    \"\"\"Get the maximum of two items\"\"\"\n",
        "    if x >= y:\n",
        "        return x\n",
        "    else:\n",
        "        return y\n",
        "\n",
        "c = np.array([maxx(x, y) for x, y in zip(a, b)])\n",
        "print(c)"
      ],
      "metadata": {
        "colab": {
          "base_uri": "https://localhost:8080/"
        },
        "id": "JLZznZ4u_Mzc",
        "outputId": "b2201f71-994e-406c-a39f-74ae200bb02b"
      },
      "execution_count": 21,
      "outputs": [
        {
          "output_type": "stream",
          "name": "stdout",
          "text": [
            "Array A\n",
            "[5 6 6 9 3 8 6]\n",
            "Array B\n",
            "[8 5 4 7 7 8 3]\n",
            "----------------------------\n",
            "Method 1\n",
            "[8 6 6 9 7 8 6]\n",
            "----------------------------\n",
            "Method 2\n",
            "[8 6 6 9 7 8 6]\n"
          ]
        }
      ]
    },
    {
      "cell_type": "code",
      "source": [
        "# Swap columns 1 and 2 in the array arr.\n",
        "# Hint\n",
        "# Desired Output:\n",
        "# [[0 2 1]\n",
        "#  [3 5 4]\n",
        "#  [6 8 7]]\n",
        "\n",
        "\n",
        "arr = np.arange(9).reshape(3,3)\n",
        "print(arr)\n",
        "\n",
        "# Swap columns 1 and 2\n",
        "arr[:, [0, 1]] = arr[:, [1, 0]]\n",
        "\n",
        "print(\"------------------------\")\n",
        "print(\"Cambio de columnas 1 y 2\")\n",
        "print(arr)\n",
        "\n",
        "pass"
      ],
      "metadata": {
        "colab": {
          "base_uri": "https://localhost:8080/"
        },
        "id": "SYqrmHnN_SuD",
        "outputId": "ce2c9200-56e4-401e-8c34-41cc662c02d1"
      },
      "execution_count": 22,
      "outputs": [
        {
          "output_type": "stream",
          "name": "stdout",
          "text": [
            "[[0 1 2]\n",
            " [3 4 5]\n",
            " [6 7 8]]\n",
            "------------------------\n",
            "Cambio de columnas 1 y 2\n",
            "[[1 0 2]\n",
            " [4 3 5]\n",
            " [7 6 8]]\n"
          ]
        }
      ]
    },
    {
      "cell_type": "code",
      "source": [
        "# Create a 2D array of shape 5x3 to contain random decimal numbers between 5 and 10.\n",
        "# Hint\n",
        "# The desired Output should be like the following one:\n",
        "#  [[ 8.50061025  9.10531502  6.85867783]\n",
        "#   [ 9.76262069  9.87717411  7.13466701]\n",
        "#   [ 7.48966403  8.33409158  6.16808631]\n",
        "#   [ 7.75010551  9.94535696  5.27373226]\n",
        "#   [ 8.0850361   5.56165518  7.31244004]]\n",
        "\n",
        "random_array = np.random.uniform(5, 10, size=(5, 3))\n",
        "print(random_array)\n"
      ],
      "metadata": {
        "colab": {
          "base_uri": "https://localhost:8080/"
        },
        "id": "S-IneQEa_Xr5",
        "outputId": "11cbede1-5784-493c-a85e-616d72c25f22"
      },
      "execution_count": 23,
      "outputs": [
        {
          "output_type": "stream",
          "name": "stdout",
          "text": [
            "[[7.74435557 6.67910238 9.97723358]\n",
            " [6.51038888 5.2264682  5.03998993]\n",
            " [5.46156898 8.05465527 8.26783803]\n",
            " [9.64044084 8.53237835 6.6489088 ]\n",
            " [6.79966672 9.0406004  9.81828751]]\n"
          ]
        }
      ]
    }
  ]
}